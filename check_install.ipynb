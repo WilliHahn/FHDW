{
 "cells": [
  {
   "cell_type": "markdown",
   "id": "1fd5683b",
   "metadata": {},
   "source": [
    "### Versionsabfrage der Python Umgebung und eingesetzter Bibliotheken\n"
   ]
  },
  {
   "cell_type": "code",
   "execution_count": 3,
   "id": "ff1b1eb3",
   "metadata": {},
   "outputs": [],
   "source": [
    "##### notwendige Bibliotheken installieren für Colab\n",
    "##### Falls unter Colab oder Binder Fehlermeldungen, wie Module not found, auftreten,\n",
    "##### dann entfernen Sie das Kommentarzeichen # vor den pip Befehlen und führen einmalig diese Zelle aus\n",
    "#%%capture\n",
    "#%%bash\n",
    "#pip install pandas\n",
    "#pip install numpy\n",
    "#pip install sklearn\n",
    "#pip install matplotlib\n",
    "#pip install seaborn\n",
    "#pip install imbalanced-learn\n",
    "#pip install bokeh"
   ]
  },
  {
   "cell_type": "code",
   "execution_count": 4,
   "id": "ca4a51f8",
   "metadata": {},
   "outputs": [],
   "source": [
    "##### notwendige Bibliotheken installieren Nicht für Colab\n",
    "##### einmalig installieren, wenn ModuleNotFound error auftritt\n",
    "##### dann entfernen Sie das Kommentarzeichen # vor den pip Befehlen und führen diese Zelle aus\n",
    "##### Alternativ können Sie auch conda verwenden. Wichtig ist dabei nur, dass Sie pip und conda nicht auf einer Installation mischen.\n",
    "#!pip install pandas\n",
    "#!pip install numpy\n",
    "#!pip install sklearn\n",
    "#!pip install matplotlib\n",
    "#!pip install seaborn\n",
    "#!pip install imbalanced-learn  \n",
    "#!pip install bokeh  \n"
   ]
  },
  {
   "cell_type": "code",
   "execution_count": 4,
   "id": "a53b295f",
   "metadata": {},
   "outputs": [
    {
     "name": "stdout",
     "output_type": "stream",
     "text": [
      "python version 3.11.4\n",
      "Selected Jupyter core packages...\n",
      "IPython          : 8.12.2\n",
      "ipykernel        : 6.25.0\n",
      "ipywidgets       : 8.1.0\n",
      "jupyter_client   : 7.4.9\n",
      "jupyter_core     : 5.3.0\n",
      "jupyter_server   : 1.23.4\n",
      "jupyterlab       : not installed\n",
      "nbclient         : 0.5.13\n",
      "nbconvert        : 6.5.4\n",
      "nbformat         : 5.7.0\n",
      "notebook         : 6.5.4\n",
      "qtconsole        : not installed\n",
      "traitlets        : 5.7.1\n",
      "pandas version 2.0.3\n",
      "numpy version 1.23.5\n",
      "seaborn version 0.12.2\n",
      "matplotlib version 3.7.2\n",
      "sklearn version 1.3.0\n",
      "imbalanced-learn version 0.11.0\n",
      "bokeh 3.2.2\n"
     ]
    }
   ],
   "source": [
    "from platform import python_version\n",
    "print(\"python version \" + python_version())\n",
    "# Folgende Zeile aktivieren, wenn Python und Jupyter local ohne PATH Variable installiert sind. Passen den Pfad an.\n",
    "#!c:\\myprograms\\python311\\Scripts\\jupyter --version\n",
    "!jupyter --version\n",
    "import pandas as pd\n",
    "print (\"pandas version \" + pd.__version__)\n",
    "import numpy as np\n",
    "print (\"numpy version \" + np.__version__)\n",
    "import seaborn as sns\n",
    "print (\"seaborn version \" + sns.__version__)\n",
    "import matplotlib as plt\n",
    "print (\"matplotlib version \" + plt.__version__)\n",
    "import sklearn as sk\n",
    "print (\"sklearn version \" + sk.__version__)\n",
    "import imblearn as imb\n",
    "print (\"imbalanced-learn version \" + imb.__version__)\n",
    "import bokeh as bokeh\n",
    "print (\"bokeh \" + bokeh.__version__)\n",
    "\n"
   ]
  }
 ],
 "metadata": {
  "kernelspec": {
   "display_name": "Python 3 (ipykernel)",
   "language": "python",
   "name": "python3"
  },
  "language_info": {
   "codemirror_mode": {
    "name": "ipython",
    "version": 3
   },
   "file_extension": ".py",
   "mimetype": "text/x-python",
   "name": "python",
   "nbconvert_exporter": "python",
   "pygments_lexer": "ipython3",
   "version": "3.11.4"
  }
 },
 "nbformat": 4,
 "nbformat_minor": 5
}
